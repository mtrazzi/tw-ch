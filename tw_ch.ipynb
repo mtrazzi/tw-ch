{
 "cells": [
  {
   "cell_type": "markdown",
   "metadata": {},
   "source": [
    "### Getting that juicy clubhouse data"
   ]
  },
  {
   "cell_type": "code",
   "execution_count": null,
   "metadata": {},
   "outputs": [],
   "source": [
    "### PLEASE DOWNLOAD THE KAGGLE DATA BEFORE HAND AND PUT IT IN THE REPO ###\n",
    "\n",
    "# >> kaggle.com/johntukey/clubhouse-dataset/download <<\n",
    "\n",
    "import pandas as pd\n",
    "import sqlite3\n",
    "\n",
    "conn = sqlite3.connect(\"Clubhouse_Dataset_v1.db\") \n",
    "club_df = pd.read_sql_query(\"SELECT * FROM user\", conn)\n",
    "club_twitt = pd.unique(list(club_df['twitter']))\n",
    "\n",
    "skip_API = True"
   ]
  },
  {
   "cell_type": "markdown",
   "metadata": {},
   "source": [
    "### Importing your twitter followers (if you have some!)"
   ]
  },
  {
   "cell_type": "code",
   "execution_count": null,
   "metadata": {},
   "outputs": [],
   "source": [
    "### SKIP THIS IF YOU ARE TOO LAZY TO HAVE A TWITTER DEV ACCOUNT AND HATE RATE LIMITED REQUESTS ###\n",
    "\n",
    "# get your tokens here: https://developer.twitter.com/en\n",
    "# otherwise just skip this step and use my pickled followers to play around!\n",
    "if not skip_API:\n",
    "    import tweepy\n",
    "    consumer_key = None\n",
    "    consumer_secret = None\n",
    "    access_token = None\n",
    "    access_token_secret = None\n",
    "    auth = tweepy.OAuthHandler(consumer_key, consumer_secret)\n",
    "    auth.set_access_token(access_token, access_token_secret)\n",
    "    api = tweepy.API(auth)"
   ]
  },
  {
   "cell_type": "code",
   "execution_count": null,
   "metadata": {},
   "outputs": [],
   "source": [
    "# import time\n",
    "# sleeptime = 4\n",
    "# pages = tweepy.Cursor(api.followers, screen_name=\"MichaelTrazzi\").pages()\n",
    "# users = []\n",
    "# with open('followers.txt', 'w') as f:\n",
    "#     while True:\n",
    "#         try:\n",
    "#             page = next(pages)\n",
    "#             time.sleep(sleeptime)\n",
    "#         except tweepy.RateLimitError: #taking extra care of the \"rate limit exceeded\"\n",
    "#             time.sleep(60*15) # API limits us to 80 requests every 15 minutes :(\n",
    "#             page = next(pages)\n",
    "#         except StopIteration:\n",
    "#             break\n",
    "#         for user in page:\n",
    "#             print(f'{len(users)}: {user.screen_name}')\n",
    "#             users.append(user)\n",
    "#             pickle.dump(users, open('users.p', 'wb'))\n",
    "#             print(user.id_str, file=f) # logging to not lose everything"
   ]
  },
  {
   "cell_type": "code",
   "execution_count": null,
   "metadata": {},
   "outputs": [],
   "source": [
    "### COMMENT THE PICKLE.LOAD IF YOU (really??) DID THE API STUFF ###\n",
    "import pickle\n",
    "\n",
    "users = pickle.load(open('users.p', 'rb'))\n",
    "followers = [us.screen_name for us in users]"
   ]
  },
  {
   "cell_type": "markdown",
   "metadata": {},
   "source": [
    "### Merging the twitter and clubhouse data into some, hum, hype followers dictionary?"
   ]
  },
  {
   "cell_type": "code",
   "execution_count": null,
   "metadata": {},
   "outputs": [],
   "source": [
    "hype_followers = [tw_name for tw_name in club_twitt if tw_name in followers]\n",
    "hype_foll_dic = {tw_name: users[followers.index(tw_name)] for tw_name in hype_followers}"
   ]
  },
  {
   "cell_type": "code",
   "execution_count": null,
   "metadata": {},
   "outputs": [],
   "source": [
    "import os\n",
    "import requests\n",
    "\n",
    "for website in ['ch', 'tw']:\n",
    "    os.makedirs(f'./{website}_imgs/', exist_ok=True)\n",
    "hype_dic = {}\n",
    "for m8 in hype_followers:\n",
    "    ch_user = club_df.loc[list(club_df['twitter']).index(m8)]\n",
    "    hype_dic[m8] = {'ch': ch_user.num_followers,\n",
    "                    'tw': hype_foll_dic[m8].followers_count}\n",
    "    ch_url, tw_url = ch_user['photo_url'], hype_foll_dic[m8].profile_image_url\n",
    "#     for (website, url) in zip(['ch', 'tw'], [ch_url, tw_url]):\n",
    "#         if url is not None:\n",
    "#             url = url.replace('_normal', '') # handles small twitter images\n",
    "#             with open(f'./{website}_imgs/{m8}.png', 'wb') as f:\n",
    "#                 pic = requests.get(url).content\n",
    "#                 f.write(pic)\n",
    "#                 hype_dic[m8]['pic'] = pic"
   ]
  },
  {
   "cell_type": "code",
   "execution_count": null,
   "metadata": {},
   "outputs": [],
   "source": [
    "# run on your terminal the line below to compare twitter vs. clubhouse\n",
    "# for name in $(ls ch_imgs); do open ch_imgs/$name tw_imgs/$name; done\n",
    "diff_pics = ['michellehuang42', 'rainieratx', 'malharjere', 'aashiq', '_afsheen_a', 'TetraspaceWest', 'InquilineKea',\n",
    "             'GrantTBurke', 'AlexnBriand', 'snigdhar0y']\n",
    "for name in hype_dic:\n",
    "    hype_dic[name]['changed'] = (name in diff_pics)"
   ]
  },
  {
   "cell_type": "code",
   "execution_count": null,
   "metadata": {},
   "outputs": [],
   "source": [
    "import numpy as np\n",
    "from scipy import stats\n",
    "import matplotlib.pyplot as plt\n",
    "from matplotlib.ticker import FormatStrFormatter\n",
    "import matplotlib.ticker as mtick\n",
    "import matplotlib as mpl\n",
    "\n",
    "fig, ax = plt.subplots(figsize=(16, 9))\n",
    "hype_dic = {k: v for k, v in sorted(hype_dic.items(), key=lambda item: item[1]['ch'])\n",
    "                                    if v['tw'] >= 100 and v['ch'] >= 10}\n",
    "tw, ch = [[nb_follows[website] for nb_follows in hype_dic.values()]\n",
    "                  for website in ['tw', 'ch']]\n",
    "tw_log, ch_log = list(map(np.log10, [tw, ch]))\n",
    "\n",
    "names = list(hype_dic.keys())\n",
    "def has_changed(idx): return hype_dic[names[idx]]['changed']\n",
    "\n",
    "tw_chg, ch_chg = [[pt for (i, pt) in enumerate(pt_l) if has_changed(i)] for pt_l in [tw, ch]]\n",
    "tw_nochg, ch_nochg = [[pt for (i, pt) in enumerate(pt_l) if not has_changed(i)] for pt_l in [tw, ch]]\n",
    "\n",
    "ax.scatter(tw_chg, ch_chg, c='r', marker='x', linewidths=5, label='different pics')\n",
    "ax.scatter(tw_nochg, ch_nochg, c='b', marker='.', linewidths=5, label='same pic')\n",
    "\n",
    "# straight line\n",
    "m, b = np.polyfit(tw_log, ch_log, 1)\n",
    "x = np.linspace(min(tw_log), max(tw_log), 100)\n",
    "plt.plot(np.exp(x * np.log(10)), np.exp((m * x + b) * np.log(10)), 'r--',\n",
    "         label=r'$\\rho = $' + f'${stats.spearmanr(tw_log, ch_log)[0]:.2f}$')\n",
    "\n",
    "\n",
    "# annotation\n",
    "offset = {name: (0, 0) for name in hype_dic}\n",
    "offset['savsidorov'] = (-100, 2)\n",
    "offset['michellehuang42'] = (-10, -30)\n",
    "offset['aaronzlewis'] = (-4000, -50)\n",
    "offset['DrewCoffman'] = (-1500, 100)\n",
    "\n",
    "for (name, nbs) in hype_dic.items():\n",
    "    x, y = nbs['tw'], nbs['ch']\n",
    "    off = offset[name]\n",
    "    ax.annotate(name, (x, y), xytext=(x + off[0], y + off[1]), fontsize=25)\n",
    "# axis\n",
    "\n",
    "ax.set_xscale('log')\n",
    "ax.set_yscale('log')\n",
    "plt.tick_params(axis='y', which='minor')\n",
    "plt.tick_params(axis='x', which='minor')\n",
    "ax.set_xlabel('twitter followers', fontsize=40)\n",
    "ax.set_ylabel('clubhouse followers', fontsize=40)\n",
    "ax.xaxis.set_minor_formatter(mtick.FormatStrFormatter(\"%.0d\"))\n",
    "ax.yaxis.set_minor_formatter(mtick.FormatStrFormatter(\"%.0d\"))\n",
    "ax.xaxis.set_major_formatter(mtick.ScalarFormatter(useMathText=True))\n",
    "ax.yaxis.set_major_formatter(mtick.ScalarFormatter(useMathText=True))\n",
    "\n",
    "plt.legend(fontsize=25)\n",
    "plt.plot()"
   ]
  }
 ],
 "metadata": {
  "kernelspec": {
   "display_name": "Python 3",
   "language": "python",
   "name": "python3"
  },
  "language_info": {
   "codemirror_mode": {
    "name": "ipython",
    "version": 3
   },
   "file_extension": ".py",
   "mimetype": "text/x-python",
   "name": "python",
   "nbconvert_exporter": "python",
   "pygments_lexer": "ipython3",
   "version": "3.8.5"
  }
 },
 "nbformat": 4,
 "nbformat_minor": 4
}
